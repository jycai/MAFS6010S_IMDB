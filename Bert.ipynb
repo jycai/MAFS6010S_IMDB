{
 "cells": [
  {
   "cell_type": "markdown",
   "metadata": {
    "collapsed": true
   },
   "source": [
    "# Method 2: Machine Learning with Google BERT "
   ]
  },
  {
   "cell_type": "code",
   "execution_count": 20,
   "metadata": {},
   "outputs": [],
   "source": [
    "import numpy as np \n",
    "import pandas as pd \n",
    "import random\n",
    "import seaborn as sns\n",
    "import matplotlib.pyplot as plt\n",
    "\n",
    "import torch\n",
    "from torch.utils.data import TensorDataset, DataLoader, random_split\n",
    "\n",
    "from transformers import BertTokenizer\n",
    "from transformers import BertForSequenceClassification, AdamW\n",
    "from transformers import get_linear_schedule_with_warmup\n",
    "\n",
    "from sklearn.model_selection import train_test_split\n",
    "\n",
    "import warnings\n",
    "warnings.filterwarnings('ignore')\n",
    "\n",
    "seed = 42\n",
    "random.seed(seed)\n",
    "np.random.seed(seed)\n",
    "torch.manual_seed(seed)\n",
    "torch.cuda.manual_seed_all(seed)\n",
    "torch.backends.cudnn.deterministic = True"
   ]
  },
  {
   "cell_type": "code",
   "execution_count": 2,
   "metadata": {},
   "outputs": [
    {
     "data": {
      "text/html": [
       "<div>\n",
       "<style scoped>\n",
       "    .dataframe tbody tr th:only-of-type {\n",
       "        vertical-align: middle;\n",
       "    }\n",
       "\n",
       "    .dataframe tbody tr th {\n",
       "        vertical-align: top;\n",
       "    }\n",
       "\n",
       "    .dataframe thead th {\n",
       "        text-align: right;\n",
       "    }\n",
       "</style>\n",
       "<table border=\"1\" class=\"dataframe\">\n",
       "  <thead>\n",
       "    <tr style=\"text-align: right;\">\n",
       "      <th></th>\n",
       "      <th>review</th>\n",
       "      <th>sentiment</th>\n",
       "    </tr>\n",
       "  </thead>\n",
       "  <tbody>\n",
       "    <tr>\n",
       "      <th>82</th>\n",
       "      <td>Oh God, I must have seen this when I was only ...</td>\n",
       "      <td>negative</td>\n",
       "    </tr>\n",
       "    <tr>\n",
       "      <th>991</th>\n",
       "      <td>I dunno sometimes...you try and try and try to...</td>\n",
       "      <td>negative</td>\n",
       "    </tr>\n",
       "    <tr>\n",
       "      <th>789</th>\n",
       "      <td>This little two-person movie is actually much ...</td>\n",
       "      <td>positive</td>\n",
       "    </tr>\n",
       "    <tr>\n",
       "      <th>894</th>\n",
       "      <td>After several extremely well ratings to the po...</td>\n",
       "      <td>positive</td>\n",
       "    </tr>\n",
       "    <tr>\n",
       "      <th>398</th>\n",
       "      <td>After a snowstorm, the roads are blocked and t...</td>\n",
       "      <td>negative</td>\n",
       "    </tr>\n",
       "  </tbody>\n",
       "</table>\n",
       "</div>"
      ],
      "text/plain": [
       "                                                review sentiment\n",
       "82   Oh God, I must have seen this when I was only ...  negative\n",
       "991  I dunno sometimes...you try and try and try to...  negative\n",
       "789  This little two-person movie is actually much ...  positive\n",
       "894  After several extremely well ratings to the po...  positive\n",
       "398  After a snowstorm, the roads are blocked and t...  negative"
      ]
     },
     "execution_count": 2,
     "metadata": {},
     "output_type": "execute_result"
    }
   ],
   "source": [
    "dataset = pd.read_csv(\"IMDB Dataset.csv\")\n",
    "# Please note that this approach is very time consuming because my mac doesn't suppoprt \n",
    "# GPU version of Pytorch, thus we only take 1000 review in this project to train and test the model.\n",
    "dataset = dataset.iloc[0:1000]\n",
    "train, test = train_test_split(dataset, test_size=0.25)\n",
    "train.head()"
   ]
  },
  {
   "cell_type": "markdown",
   "metadata": {},
   "source": [
    "# Step 1: \n",
    "## Pre-processing a): get text values and labels and load the pretrained Tokenizer"
   ]
  },
  {
   "cell_type": "code",
   "execution_count": 3,
   "metadata": {},
   "outputs": [],
   "source": [
    "# Get text values and labels\n",
    "text_values = train.review.values\n",
    "labels = train.sentiment.replace({'positive': 1, 'negative': 0}).values\n",
    "# Load the pretrained Tokenizer\n",
    "tokenizer = BertTokenizer.from_pretrained('bert-base-uncased', do_lower_case=True)"
   ]
  },
  {
   "cell_type": "code",
   "execution_count": 4,
   "metadata": {},
   "outputs": [
    {
     "name": "stdout",
     "output_type": "stream",
     "text": [
      "Original Text :  I dunno sometimes...you try and try and try to be charitable towards all the B thru Z grade movies out there, but once in a while a particular movie just tests your patience until you want to slap everyone involved. \"Bat People\" (which I saw under the title \"It Lives By Night\") is just such a movie. You can't watch this without thinking that it really should have been an episode on \"Night Gallery\", and not one of the better ones, either. <br /><br />The movie has something to do with a doctor who gets bitten by a bat and consequently starts to morph into a Were-Bat who drinks human blood. (Actually, you'd think if he was turning into a real bat, he'd be eating mosquitoes by the gallon bucket, but because this is a cheap, lurid horror movie, blood's the word.) In spite of the fact that he has grand-mal seizures at the drop of a hat, and black-out episodes almost every night, his friend and fellow physician, Dr. Mustache Aspen-Extreme, insists that he's just having an 'allergic reaction' to the rabies shots. Meanwhile, the world's most obnoxious and stereotyped county sheriff suspects the doc of being responsible for the brutal murder and exsanguination of several local girls (and one wino). Also meanwhile, the doctor's wife decides that denial IS a river in Egypt and alternately patronizes him and nags him to distraction. <br /><br />It's not so much that the acting is bad - you can tell that the actors are making professional level choices, and are trying to bring some juice and life to the script, even the guy who plays the sheriff. (Okay, it IS pretty bad, but it's bad in a clichéd, wooden, professional way). It's just that everything about the acting, the way the scenes are paced, the costumes, the dialog, the script and the story line in general sets your teeth on edge and makes you want to, well, slap everyone involved.<br /><br />I think the movie had an outside chance at being a spooky, unsettling little cult favorite, BUT:<br /><br />1)The director needed to beat Michael Pataki, an experienced character actor, with a chair until Pataki agreed to ACT, and not just channel Dennis Weaver. <br /><br />2)He also needed to find a script that made a little more sense with regard to the whole \"Bat Bites Human, Who Then Turns Into A Bat\" scenario. <br /><br />3) He also needed the actor who played the doctor to find a little more physically believable bit of stage business for his 'episodes', instead of resorting to \"Man Has A Seizure\" page from the Little Golden Book of Clichéd Acting Mannerisms. <br /><br />4) He needed to rework the whole 'wife' character, make her both more intelligent, less shrill and waaaaay more observant. <br /><br />I would never voluntarily watch this film again, except with the help of Mike and the Bots. It's bad, but it isn't bad in a silly, humorous or interesting way. Still better than \"Battlefield Earth\" or \"Waterworld\", though.\n",
      "Tokenized Text:  ['i', 'dunn', '##o', 'sometimes', '.', '.', '.', 'you', 'try', 'and', 'try', 'and', 'try', 'to', 'be', 'charitable', 'towards', 'all', 'the', 'b', 'thru', 'z', 'grade', 'movies', 'out', 'there', ',', 'but', 'once', 'in', 'a', 'while', 'a', 'particular', 'movie', 'just', 'tests', 'your', 'patience', 'until', 'you', 'want', 'to', 'slap', 'everyone', 'involved', '.', '\"', 'bat', 'people', '\"', '(', 'which', 'i', 'saw', 'under', 'the', 'title', '\"', 'it', 'lives', 'by', 'night', '\"', ')', 'is', 'just', 'such', 'a', 'movie', '.', 'you', 'can', \"'\", 't', 'watch', 'this', 'without', 'thinking', 'that', 'it', 'really', 'should', 'have', 'been', 'an', 'episode', 'on', '\"', 'night', 'gallery', '\"', ',', 'and', 'not', 'one', 'of', 'the', 'better', 'ones', ',', 'either', '.', '<', 'br', '/', '>', '<', 'br', '/', '>', 'the', 'movie', 'has', 'something', 'to', 'do', 'with', 'a', 'doctor', 'who', 'gets', 'bitten', 'by', 'a', 'bat', 'and', 'consequently', 'starts', 'to', 'mor', '##ph', 'into', 'a', 'were', '-', 'bat', 'who', 'drinks', 'human', 'blood', '.', '(', 'actually', ',', 'you', \"'\", 'd', 'think', 'if', 'he', 'was', 'turning', 'into', 'a', 'real', 'bat', ',', 'he', \"'\", 'd', 'be', 'eating', 'mosquito', '##es', 'by', 'the', 'gallon', 'bucket', ',', 'but', 'because', 'this', 'is', 'a', 'cheap', ',', 'lu', '##rid', 'horror', 'movie', ',', 'blood', \"'\", 's', 'the', 'word', '.', ')', 'in', 'spite', 'of', 'the', 'fact', 'that', 'he', 'has', 'grand', '-', 'mal', 'seizures', 'at', 'the', 'drop', 'of', 'a', 'hat', ',', 'and', 'black', '-', 'out', 'episodes', 'almost', 'every', 'night', ',', 'his', 'friend', 'and', 'fellow', 'physician', ',', 'dr', '.', 'mustache', 'aspen', '-', 'extreme', ',', 'insists', 'that', 'he', \"'\", 's', 'just', 'having', 'an', \"'\", 'allergic', 'reaction', \"'\", 'to', 'the', 'ra', '##bies', 'shots', '.', 'meanwhile', ',', 'the', 'world', \"'\", 's', 'most', 'ob', '##no', '##xious', 'and', 'stereo', '##type', '##d', 'county', 'sheriff', 'suspects', 'the', 'doc', 'of', 'being', 'responsible', 'for', 'the', 'brutal', 'murder', 'and', 'ex', '##san', '##gui', '##nation', 'of', 'several', 'local', 'girls', '(', 'and', 'one', 'win', '##o', ')', '.', 'also', 'meanwhile', ',', 'the', 'doctor', \"'\", 's', 'wife', 'decides', 'that', 'denial', 'is', 'a', 'river', 'in', 'egypt', 'and', 'alternately', 'patron', '##izes', 'him', 'and', 'na', '##gs', 'him', 'to', 'distraction', '.', '<', 'br', '/', '>', '<', 'br', '/', '>', 'it', \"'\", 's', 'not', 'so', 'much', 'that', 'the', 'acting', 'is', 'bad', '-', 'you', 'can', 'tell', 'that', 'the', 'actors', 'are', 'making', 'professional', 'level', 'choices', ',', 'and', 'are', 'trying', 'to', 'bring', 'some', 'juice', 'and', 'life', 'to', 'the', 'script', ',', 'even', 'the', 'guy', 'who', 'plays', 'the', 'sheriff', '.', '(', 'okay', ',', 'it', 'is', 'pretty', 'bad', ',', 'but', 'it', \"'\", 's', 'bad', 'in', 'a', 'cl', '##iche', '##d', ',', 'wooden', ',', 'professional', 'way', ')', '.', 'it', \"'\", 's', 'just', 'that', 'everything', 'about', 'the', 'acting', ',', 'the', 'way', 'the', 'scenes', 'are', 'paced', ',', 'the', 'costumes', ',', 'the', 'dial', '##og', ',', 'the', 'script', 'and', 'the', 'story', 'line', 'in', 'general', 'sets', 'your', 'teeth', 'on', 'edge', 'and', 'makes', 'you', 'want', 'to', ',', 'well', ',', 'slap', 'everyone', 'involved', '.', '<', 'br', '/', '>', '<', 'br', '/', '>', 'i', 'think', 'the', 'movie', 'had', 'an', 'outside', 'chance', 'at', 'being', 'a', 'sp', '##ook', '##y', ',', 'un', '##sett', '##ling', 'little', 'cult', 'favorite', ',', 'but', ':', '<', 'br', '/', '>', '<', 'br', '/', '>', '1', ')', 'the', 'director', 'needed', 'to', 'beat', 'michael', 'pat', '##aki', ',', 'an', 'experienced', 'character', 'actor', ',', 'with', 'a', 'chair', 'until', 'pat', '##aki', 'agreed', 'to', 'act', ',', 'and', 'not', 'just', 'channel', 'dennis', 'weaver', '.', '<', 'br', '/', '>', '<', 'br', '/', '>', '2', ')', 'he', 'also', 'needed', 'to', 'find', 'a', 'script', 'that', 'made', 'a', 'little', 'more', 'sense', 'with', 'regard', 'to', 'the', 'whole', '\"', 'bat', 'bites', 'human', ',', 'who', 'then', 'turns', 'into', 'a', 'bat', '\"', 'scenario', '.', '<', 'br', '/', '>', '<', 'br', '/', '>', '3', ')', 'he', 'also', 'needed', 'the', 'actor', 'who', 'played', 'the', 'doctor', 'to', 'find', 'a', 'little', 'more', 'physically', 'bel', '##ie', '##vable', 'bit', 'of', 'stage', 'business', 'for', 'his', \"'\", 'episodes', \"'\", ',', 'instead', 'of', 'resort', '##ing', 'to', '\"', 'man', 'has', 'a', 'seizure', '\"', 'page', 'from', 'the', 'little', 'golden', 'book', 'of', 'cl', '##iche', '##d', 'acting', 'manner', '##isms', '.', '<', 'br', '/', '>', '<', 'br', '/', '>', '4', ')', 'he', 'needed', 'to', 're', '##work', 'the', 'whole', \"'\", 'wife', \"'\", 'character', ',', 'make', 'her', 'both', 'more', 'intelligent', ',', 'less', 'shrill', 'and', 'wa', '##aa', '##aa', '##y', 'more', 'ob', '##ser', '##vant', '.', '<', 'br', '/', '>', '<', 'br', '/', '>', 'i', 'would', 'never', 'voluntarily', 'watch', 'this', 'film', 'again', ',', 'except', 'with', 'the', 'help', 'of', 'mike', 'and', 'the', 'bot', '##s', '.', 'it', \"'\", 's', 'bad', ',', 'but', 'it', 'isn', \"'\", 't', 'bad', 'in', 'a', 'silly', ',', 'humorous', 'or', 'interesting', 'way', '.', 'still', 'better', 'than', '\"', 'battlefield', 'earth', '\"', 'or', '\"', 'water', '##world', '\"', ',', 'though', '.']\n",
      "Token IDs     :  [1045, 14145, 2080, 2823, 1012, 1012, 1012, 2017, 3046, 1998, 3046, 1998, 3046, 2000, 2022, 11128, 2875, 2035, 1996, 1038, 27046, 1062, 3694, 5691, 2041, 2045, 1010, 2021, 2320, 1999, 1037, 2096, 1037, 3327, 3185, 2074, 5852, 2115, 11752, 2127, 2017, 2215, 2000, 14308, 3071, 2920, 1012, 1000, 7151, 2111, 1000, 1006, 2029, 1045, 2387, 2104, 1996, 2516, 1000, 2009, 3268, 2011, 2305, 1000, 1007, 2003, 2074, 2107, 1037, 3185, 1012, 2017, 2064, 1005, 1056, 3422, 2023, 2302, 3241, 2008, 2009, 2428, 2323, 2031, 2042, 2019, 2792, 2006, 1000, 2305, 3916, 1000, 1010, 1998, 2025, 2028, 1997, 1996, 2488, 3924, 1010, 2593, 1012, 1026, 7987, 1013, 1028, 1026, 7987, 1013, 1028, 1996, 3185, 2038, 2242, 2000, 2079, 2007, 1037, 3460, 2040, 4152, 19026, 2011, 1037, 7151, 1998, 8821, 4627, 2000, 22822, 8458, 2046, 1037, 2020, 1011, 7151, 2040, 8974, 2529, 2668, 1012, 1006, 2941, 1010, 2017, 1005, 1040, 2228, 2065, 2002, 2001, 3810, 2046, 1037, 2613, 7151, 1010, 2002, 1005, 1040, 2022, 5983, 22529, 2229, 2011, 1996, 25234, 13610, 1010, 2021, 2138, 2023, 2003, 1037, 10036, 1010, 11320, 14615, 5469, 3185, 1010, 2668, 1005, 1055, 1996, 2773, 1012, 1007, 1999, 8741, 1997, 1996, 2755, 2008, 2002, 2038, 2882, 1011, 15451, 25750, 2012, 1996, 4530, 1997, 1037, 6045, 1010, 1998, 2304, 1011, 2041, 4178, 2471, 2296, 2305, 1010, 2010, 2767, 1998, 3507, 7522, 1010, 2852, 1012, 28786, 18567, 1011, 6034, 1010, 16818, 2008, 2002, 1005, 1055, 2074, 2383, 2019, 1005, 27395, 4668, 1005, 2000, 1996, 10958, 20536, 7171, 1012, 5564, 1010, 1996, 2088, 1005, 1055, 2087, 27885, 3630, 25171, 1998, 12991, 13874, 2094, 2221, 6458, 13172, 1996, 9986, 1997, 2108, 3625, 2005, 1996, 12077, 4028, 1998, 4654, 8791, 25698, 9323, 1997, 2195, 2334, 3057, 1006, 1998, 2028, 2663, 2080, 1007, 1012, 2036, 5564, 1010, 1996, 3460, 1005, 1055, 2564, 7288, 2008, 14920, 2003, 1037, 2314, 1999, 5279, 1998, 23554, 9161, 10057, 2032, 1998, 6583, 5620, 2032, 2000, 14836, 1012, 1026, 7987, 1013, 1028, 1026, 7987, 1013, 1028, 2009, 1005, 1055, 2025, 2061, 2172, 2008, 1996, 3772, 2003, 2919, 1011, 2017, 2064, 2425, 2008, 1996, 5889, 2024, 2437, 2658, 2504, 9804, 1010, 1998, 2024, 2667, 2000, 3288, 2070, 10869, 1998, 2166, 2000, 1996, 5896, 1010, 2130, 1996, 3124, 2040, 3248, 1996, 6458, 1012, 1006, 3100, 1010, 2009, 2003, 3492, 2919, 1010, 2021, 2009, 1005, 1055, 2919, 1999, 1037, 18856, 17322, 2094, 1010, 4799, 1010, 2658, 2126, 1007, 1012, 2009, 1005, 1055, 2074, 2008, 2673, 2055, 1996, 3772, 1010, 1996, 2126, 1996, 5019, 2024, 13823, 1010, 1996, 12703, 1010, 1996, 13764, 8649, 1010, 1996, 5896, 1998, 1996, 2466, 2240, 1999, 2236, 4520, 2115, 4091, 2006, 3341, 1998, 3084, 2017, 2215, 2000, 1010, 2092, 1010, 14308, 3071, 2920, 1012, 1026, 7987, 1013, 1028, 1026, 7987, 1013, 1028, 1045, 2228, 1996, 3185, 2018, 2019, 2648, 3382, 2012, 2108, 1037, 11867, 14659, 2100, 1010, 4895, 21678, 2989, 2210, 8754, 5440, 1010, 2021, 1024, 1026, 7987, 1013, 1028, 1026, 7987, 1013, 1028, 1015, 1007, 1996, 2472, 2734, 2000, 3786, 2745, 6986, 8978, 1010, 2019, 5281, 2839, 3364, 1010, 2007, 1037, 3242, 2127, 6986, 8978, 3530, 2000, 2552, 1010, 1998, 2025, 2074, 3149, 6877, 14077, 1012, 1026, 7987, 1013, 1028, 1026, 7987, 1013, 1028, 1016, 1007, 2002, 2036, 2734, 2000, 2424, 1037, 5896, 2008, 2081, 1037, 2210, 2062, 3168, 2007, 7634, 2000, 1996, 2878, 1000, 7151, 15424, 2529, 1010, 2040, 2059, 4332, 2046, 1037, 7151, 1000, 11967, 1012, 1026, 7987, 1013, 1028, 1026, 7987, 1013, 1028, 1017, 1007, 2002, 2036, 2734, 1996, 3364, 2040, 2209, 1996, 3460, 2000, 2424, 1037, 2210, 2062, 8186, 19337, 2666, 12423, 2978, 1997, 2754, 2449, 2005, 2010, 1005, 4178, 1005, 1010, 2612, 1997, 7001, 2075, 2000, 1000, 2158, 2038, 1037, 18634, 1000, 3931, 2013, 1996, 2210, 3585, 2338, 1997, 18856, 17322, 2094, 3772, 5450, 22556, 1012, 1026, 7987, 1013, 1028, 1026, 7987, 1013, 1028, 1018, 1007, 2002, 2734, 2000, 2128, 6198, 1996, 2878, 1005, 2564, 1005, 2839, 1010, 2191, 2014, 2119, 2062, 9414, 1010, 2625, 28349, 1998, 11333, 11057, 11057, 2100, 2062, 27885, 8043, 18941, 1012, 1026, 7987, 1013, 1028, 1026, 7987, 1013, 1028, 1045, 2052, 2196, 17912, 3422, 2023, 2143, 2153, 1010, 3272, 2007, 1996, 2393, 1997, 3505, 1998, 1996, 28516, 2015, 1012, 2009, 1005, 1055, 2919, 1010, 2021, 2009, 3475, 1005, 1056, 2919, 1999, 1037, 10021, 1010, 14742, 2030, 5875, 2126, 1012, 2145, 2488, 2084, 1000, 11686, 3011, 1000, 2030, 1000, 2300, 11108, 1000, 1010, 2295, 1012]\n"
     ]
    }
   ],
   "source": [
    "print('Original Text : ', text_values[1])\n",
    "print('Tokenized Text: ', tokenizer.tokenize(text_values[1]))\n",
    "print('Token IDs     : ', tokenizer.convert_tokens_to_ids(tokenizer.tokenize(text_values[1])))"
   ]
  },
  {
   "cell_type": "markdown",
   "metadata": {},
   "source": [
    "## Pre-processing b): prepare the class, seperation and padding tokens"
   ]
  },
  {
   "cell_type": "code",
   "execution_count": 5,
   "metadata": {},
   "outputs": [
    {
     "name": "stdout",
     "output_type": "stream",
     "text": [
      "Original Text :  [CLS]\n",
      "Tokenized Text:  ['[CLS]']\n",
      "Token IDs     :  [101]\n",
      "\n",
      "\n",
      "Original Text :  [SEP]\n",
      "Tokenized Text:  ['[SEP]']\n",
      "Token IDs     :  [102]\n",
      "\n",
      "\n",
      "Original Text :  [PAD]\n",
      "Tokenized Text:  ['[PAD]']\n",
      "Token IDs     :  [0]\n"
     ]
    }
   ],
   "source": [
    "text = '[CLS]'\n",
    "print('Original Text : ', text)\n",
    "print('Tokenized Text: ', tokenizer.tokenize(text))\n",
    "print('Token IDs     : ', tokenizer.convert_tokens_to_ids(tokenizer.tokenize(text)))\n",
    "print('\\n')\n",
    "\n",
    "text = '[SEP]'\n",
    "print('Original Text : ', text)\n",
    "print('Tokenized Text: ', tokenizer.tokenize(text))\n",
    "print('Token IDs     : ', tokenizer.convert_tokens_to_ids(tokenizer.tokenize(text)))\n",
    "print('\\n')\n",
    "\n",
    "text = '[PAD]'\n",
    "print('Original Text : ', text)\n",
    "print('Tokenized Text: ', tokenizer.tokenize(text))\n",
    "print('Token IDs     : ', tokenizer.convert_tokens_to_ids(tokenizer.tokenize(text)))"
   ]
  },
  {
   "cell_type": "code",
   "execution_count": 6,
   "metadata": {},
   "outputs": [
    {
     "name": "stderr",
     "output_type": "stream",
     "text": [
      "Token indices sequence length is longer than the specified maximum sequence length for this model (726 > 512). Running this sequence through the model will result in indexing errors\n"
     ]
    },
    {
     "name": "stdout",
     "output_type": "stream",
     "text": [
      "Original Text                          :  I dunno sometimes...you try and try and try to be charitable towards all the B thru Z grade movies out there, but once in a while a particular movie just tests your patience until you want to slap everyone involved. \"Bat People\" (which I saw under the title \"It Lives By Night\") is just such a movie. You can't watch this without thinking that it really should have been an episode on \"Night Gallery\", and not one of the better ones, either. <br /><br />The movie has something to do with a doctor who gets bitten by a bat and consequently starts to morph into a Were-Bat who drinks human blood. (Actually, you'd think if he was turning into a real bat, he'd be eating mosquitoes by the gallon bucket, but because this is a cheap, lurid horror movie, blood's the word.) In spite of the fact that he has grand-mal seizures at the drop of a hat, and black-out episodes almost every night, his friend and fellow physician, Dr. Mustache Aspen-Extreme, insists that he's just having an 'allergic reaction' to the rabies shots. Meanwhile, the world's most obnoxious and stereotyped county sheriff suspects the doc of being responsible for the brutal murder and exsanguination of several local girls (and one wino). Also meanwhile, the doctor's wife decides that denial IS a river in Egypt and alternately patronizes him and nags him to distraction. <br /><br />It's not so much that the acting is bad - you can tell that the actors are making professional level choices, and are trying to bring some juice and life to the script, even the guy who plays the sheriff. (Okay, it IS pretty bad, but it's bad in a clichéd, wooden, professional way). It's just that everything about the acting, the way the scenes are paced, the costumes, the dialog, the script and the story line in general sets your teeth on edge and makes you want to, well, slap everyone involved.<br /><br />I think the movie had an outside chance at being a spooky, unsettling little cult favorite, BUT:<br /><br />1)The director needed to beat Michael Pataki, an experienced character actor, with a chair until Pataki agreed to ACT, and not just channel Dennis Weaver. <br /><br />2)He also needed to find a script that made a little more sense with regard to the whole \"Bat Bites Human, Who Then Turns Into A Bat\" scenario. <br /><br />3) He also needed the actor who played the doctor to find a little more physically believable bit of stage business for his 'episodes', instead of resorting to \"Man Has A Seizure\" page from the Little Golden Book of Clichéd Acting Mannerisms. <br /><br />4) He needed to rework the whole 'wife' character, make her both more intelligent, less shrill and waaaaay more observant. <br /><br />I would never voluntarily watch this film again, except with the help of Mike and the Bots. It's bad, but it isn't bad in a silly, humorous or interesting way. Still better than \"Battlefield Earth\" or \"Waterworld\", though.\n",
      "Tokenized Text                         :  ['i', 'dunn', '##o', 'sometimes', '.', '.', '.', 'you', 'try', 'and', 'try', 'and', 'try', 'to', 'be', 'charitable', 'towards', 'all', 'the', 'b', 'thru', 'z', 'grade', 'movies', 'out', 'there', ',', 'but', 'once', 'in', 'a', 'while', 'a', 'particular', 'movie', 'just', 'tests', 'your', 'patience', 'until', 'you', 'want', 'to', 'slap', 'everyone', 'involved', '.', '\"', 'bat', 'people', '\"', '(', 'which', 'i', 'saw', 'under', 'the', 'title', '\"', 'it', 'lives', 'by', 'night', '\"', ')', 'is', 'just', 'such', 'a', 'movie', '.', 'you', 'can', \"'\", 't', 'watch', 'this', 'without', 'thinking', 'that', 'it', 'really', 'should', 'have', 'been', 'an', 'episode', 'on', '\"', 'night', 'gallery', '\"', ',', 'and', 'not', 'one', 'of', 'the', 'better', 'ones', ',', 'either', '.', '<', 'br', '/', '>', '<', 'br', '/', '>', 'the', 'movie', 'has', 'something', 'to', 'do', 'with', 'a', 'doctor', 'who', 'gets', 'bitten', 'by', 'a', 'bat', 'and', 'consequently', 'starts', 'to', 'mor', '##ph', 'into', 'a', 'were', '-', 'bat', 'who', 'drinks', 'human', 'blood', '.', '(', 'actually', ',', 'you', \"'\", 'd', 'think', 'if', 'he', 'was', 'turning', 'into', 'a', 'real', 'bat', ',', 'he', \"'\", 'd', 'be', 'eating', 'mosquito', '##es', 'by', 'the', 'gallon', 'bucket', ',', 'but', 'because', 'this', 'is', 'a', 'cheap', ',', 'lu', '##rid', 'horror', 'movie', ',', 'blood', \"'\", 's', 'the', 'word', '.', ')', 'in', 'spite', 'of', 'the', 'fact', 'that', 'he', 'has', 'grand', '-', 'mal', 'seizures', 'at', 'the', 'drop', 'of', 'a', 'hat', ',', 'and', 'black', '-', 'out', 'episodes', 'almost', 'every', 'night', ',', 'his', 'friend', 'and', 'fellow', 'physician', ',', 'dr', '.', 'mustache', 'aspen', '-', 'extreme', ',', 'insists', 'that', 'he', \"'\", 's', 'just', 'having', 'an', \"'\", 'allergic', 'reaction', \"'\", 'to', 'the', 'ra', '##bies', 'shots', '.', 'meanwhile', ',', 'the', 'world', \"'\", 's', 'most', 'ob', '##no', '##xious', 'and', 'stereo', '##type', '##d', 'county', 'sheriff', 'suspects', 'the', 'doc', 'of', 'being', 'responsible', 'for', 'the', 'brutal', 'murder', 'and', 'ex', '##san', '##gui', '##nation', 'of', 'several', 'local', 'girls', '(', 'and', 'one', 'win', '##o', ')', '.', 'also', 'meanwhile', ',', 'the', 'doctor', \"'\", 's', 'wife', 'decides', 'that', 'denial', 'is', 'a', 'river', 'in', 'egypt', 'and', 'alternately', 'patron', '##izes', 'him', 'and', 'na', '##gs', 'him', 'to', 'distraction', '.', '<', 'br', '/', '>', '<', 'br', '/', '>', 'it', \"'\", 's', 'not', 'so', 'much', 'that', 'the', 'acting', 'is', 'bad', '-', 'you', 'can', 'tell', 'that', 'the', 'actors', 'are', 'making', 'professional', 'level', 'choices', ',', 'and', 'are', 'trying', 'to', 'bring', 'some', 'juice', 'and', 'life', 'to', 'the', 'script', ',', 'even', 'the', 'guy', 'who', 'plays', 'the', 'sheriff', '.', '(', 'okay', ',', 'it', 'is', 'pretty', 'bad', ',', 'but', 'it', \"'\", 's', 'bad', 'in', 'a', 'cl', '##iche', '##d', ',', 'wooden', ',', 'professional', 'way', ')', '.', 'it', \"'\", 's', 'just', 'that', 'everything', 'about', 'the', 'acting', ',', 'the', 'way', 'the', 'scenes', 'are', 'paced', ',', 'the', 'costumes', ',', 'the', 'dial', '##og', ',', 'the', 'script', 'and', 'the', 'story', 'line', 'in', 'general', 'sets', 'your', 'teeth', 'on', 'edge', 'and', 'makes', 'you', 'want', 'to', ',', 'well', ',', 'slap', 'everyone', 'involved', '.', '<', 'br', '/', '>', '<', 'br', '/', '>', 'i', 'think', 'the', 'movie', 'had', 'an', 'outside', 'chance', 'at', 'being', 'a', 'sp', '##ook', '##y', ',', 'un', '##sett', '##ling', 'little', 'cult', 'favorite', ',', 'but', ':', '<', 'br', '/', '>', '<', 'br', '/', '>', '1', ')', 'the', 'director', 'needed', 'to', 'beat', 'michael', 'pat', '##aki', ',', 'an', 'experienced', 'character', 'actor', ',', 'with', 'a', 'chair', 'until', 'pat', '##aki', 'agreed', 'to', 'act', ',', 'and', 'not', 'just', 'channel', 'dennis', 'weaver', '.', '<', 'br', '/', '>', '<', 'br', '/', '>', '2', ')', 'he', 'also', 'needed', 'to', 'find', 'a', 'script', 'that', 'made', 'a', 'little', 'more', 'sense', 'with', 'regard', 'to', 'the', 'whole', '\"', 'bat', 'bites', 'human', ',', 'who', 'then', 'turns', 'into', 'a', 'bat', '\"', 'scenario', '.', '<', 'br', '/', '>', '<', 'br', '/', '>', '3', ')', 'he', 'also', 'needed', 'the', 'actor', 'who', 'played', 'the', 'doctor', 'to', 'find', 'a', 'little', 'more', 'physically', 'bel', '##ie', '##vable', 'bit', 'of', 'stage', 'business', 'for', 'his', \"'\", 'episodes', \"'\", ',', 'instead', 'of', 'resort', '##ing', 'to', '\"', 'man', 'has', 'a', 'seizure', '\"', 'page', 'from', 'the', 'little', 'golden', 'book', 'of', 'cl', '##iche', '##d', 'acting', 'manner', '##isms', '.', '<', 'br', '/', '>', '<', 'br', '/', '>', '4', ')', 'he', 'needed', 'to', 're', '##work', 'the', 'whole', \"'\", 'wife', \"'\", 'character', ',', 'make', 'her', 'both', 'more', 'intelligent', ',', 'less', 'shrill', 'and', 'wa', '##aa', '##aa', '##y', 'more', 'ob', '##ser', '##vant', '.', '<', 'br', '/', '>', '<', 'br', '/', '>', 'i', 'would', 'never', 'voluntarily', 'watch', 'this', 'film', 'again', ',', 'except', 'with', 'the', 'help', 'of', 'mike', 'and', 'the', 'bot', '##s', '.', 'it', \"'\", 's', 'bad', ',', 'but', 'it', 'isn', \"'\", 't', 'bad', 'in', 'a', 'silly', ',', 'humorous', 'or', 'interesting', 'way', '.', 'still', 'better', 'than', '\"', 'battlefield', 'earth', '\"', 'or', '\"', 'water', '##world', '\"', ',', 'though', '.']\n",
      "Token IDs                              :  [1045, 14145, 2080, 2823, 1012, 1012, 1012, 2017, 3046, 1998, 3046, 1998, 3046, 2000, 2022, 11128, 2875, 2035, 1996, 1038, 27046, 1062, 3694, 5691, 2041, 2045, 1010, 2021, 2320, 1999, 1037, 2096, 1037, 3327, 3185, 2074, 5852, 2115, 11752, 2127, 2017, 2215, 2000, 14308, 3071, 2920, 1012, 1000, 7151, 2111, 1000, 1006, 2029, 1045, 2387, 2104, 1996, 2516, 1000, 2009, 3268, 2011, 2305, 1000, 1007, 2003, 2074, 2107, 1037, 3185, 1012, 2017, 2064, 1005, 1056, 3422, 2023, 2302, 3241, 2008, 2009, 2428, 2323, 2031, 2042, 2019, 2792, 2006, 1000, 2305, 3916, 1000, 1010, 1998, 2025, 2028, 1997, 1996, 2488, 3924, 1010, 2593, 1012, 1026, 7987, 1013, 1028, 1026, 7987, 1013, 1028, 1996, 3185, 2038, 2242, 2000, 2079, 2007, 1037, 3460, 2040, 4152, 19026, 2011, 1037, 7151, 1998, 8821, 4627, 2000, 22822, 8458, 2046, 1037, 2020, 1011, 7151, 2040, 8974, 2529, 2668, 1012, 1006, 2941, 1010, 2017, 1005, 1040, 2228, 2065, 2002, 2001, 3810, 2046, 1037, 2613, 7151, 1010, 2002, 1005, 1040, 2022, 5983, 22529, 2229, 2011, 1996, 25234, 13610, 1010, 2021, 2138, 2023, 2003, 1037, 10036, 1010, 11320, 14615, 5469, 3185, 1010, 2668, 1005, 1055, 1996, 2773, 1012, 1007, 1999, 8741, 1997, 1996, 2755, 2008, 2002, 2038, 2882, 1011, 15451, 25750, 2012, 1996, 4530, 1997, 1037, 6045, 1010, 1998, 2304, 1011, 2041, 4178, 2471, 2296, 2305, 1010, 2010, 2767, 1998, 3507, 7522, 1010, 2852, 1012, 28786, 18567, 1011, 6034, 1010, 16818, 2008, 2002, 1005, 1055, 2074, 2383, 2019, 1005, 27395, 4668, 1005, 2000, 1996, 10958, 20536, 7171, 1012, 5564, 1010, 1996, 2088, 1005, 1055, 2087, 27885, 3630, 25171, 1998, 12991, 13874, 2094, 2221, 6458, 13172, 1996, 9986, 1997, 2108, 3625, 2005, 1996, 12077, 4028, 1998, 4654, 8791, 25698, 9323, 1997, 2195, 2334, 3057, 1006, 1998, 2028, 2663, 2080, 1007, 1012, 2036, 5564, 1010, 1996, 3460, 1005, 1055, 2564, 7288, 2008, 14920, 2003, 1037, 2314, 1999, 5279, 1998, 23554, 9161, 10057, 2032, 1998, 6583, 5620, 2032, 2000, 14836, 1012, 1026, 7987, 1013, 1028, 1026, 7987, 1013, 1028, 2009, 1005, 1055, 2025, 2061, 2172, 2008, 1996, 3772, 2003, 2919, 1011, 2017, 2064, 2425, 2008, 1996, 5889, 2024, 2437, 2658, 2504, 9804, 1010, 1998, 2024, 2667, 2000, 3288, 2070, 10869, 1998, 2166, 2000, 1996, 5896, 1010, 2130, 1996, 3124, 2040, 3248, 1996, 6458, 1012, 1006, 3100, 1010, 2009, 2003, 3492, 2919, 1010, 2021, 2009, 1005, 1055, 2919, 1999, 1037, 18856, 17322, 2094, 1010, 4799, 1010, 2658, 2126, 1007, 1012, 2009, 1005, 1055, 2074, 2008, 2673, 2055, 1996, 3772, 1010, 1996, 2126, 1996, 5019, 2024, 13823, 1010, 1996, 12703, 1010, 1996, 13764, 8649, 1010, 1996, 5896, 1998, 1996, 2466, 2240, 1999, 2236, 4520, 2115, 4091, 2006, 3341, 1998, 3084, 2017, 2215, 2000, 1010, 2092, 1010, 14308, 3071, 2920, 1012, 1026, 7987, 1013, 1028, 1026, 7987, 1013, 1028, 1045, 2228, 1996, 3185, 2018, 2019, 2648, 3382, 2012, 2108, 1037, 11867, 14659, 2100, 1010, 4895, 21678, 2989, 2210, 8754, 5440, 1010, 2021, 1024, 1026, 7987, 1013, 1028, 1026, 7987, 1013, 1028, 1015, 1007, 1996, 2472, 2734, 2000, 3786, 2745, 6986, 8978, 1010, 2019, 5281, 2839, 3364, 1010, 2007, 1037, 3242, 2127, 6986, 8978, 3530, 2000, 2552, 1010, 1998, 2025, 2074, 3149, 6877, 14077, 1012, 1026, 7987, 1013, 1028, 1026, 7987, 1013, 1028, 1016, 1007, 2002, 2036, 2734, 2000, 2424, 1037, 5896, 2008, 2081, 1037, 2210, 2062, 3168, 2007, 7634, 2000, 1996, 2878, 1000, 7151, 15424, 2529, 1010, 2040, 2059, 4332, 2046, 1037, 7151, 1000, 11967, 1012, 1026, 7987, 1013, 1028, 1026, 7987, 1013, 1028, 1017, 1007, 2002, 2036, 2734, 1996, 3364, 2040, 2209, 1996, 3460, 2000, 2424, 1037, 2210, 2062, 8186, 19337, 2666, 12423, 2978, 1997, 2754, 2449, 2005, 2010, 1005, 4178, 1005, 1010, 2612, 1997, 7001, 2075, 2000, 1000, 2158, 2038, 1037, 18634, 1000, 3931, 2013, 1996, 2210, 3585, 2338, 1997, 18856, 17322, 2094, 3772, 5450, 22556, 1012, 1026, 7987, 1013, 1028, 1026, 7987, 1013, 1028, 1018, 1007, 2002, 2734, 2000, 2128, 6198, 1996, 2878, 1005, 2564, 1005, 2839, 1010, 2191, 2014, 2119, 2062, 9414, 1010, 2625, 28349, 1998, 11333, 11057, 11057, 2100, 2062, 27885, 8043, 18941, 1012, 1026, 7987, 1013, 1028, 1026, 7987, 1013, 1028, 1045, 2052, 2196, 17912, 3422, 2023, 2143, 2153, 1010, 3272, 2007, 1996, 2393, 1997, 3505, 1998, 1996, 28516, 2015, 1012, 2009, 1005, 1055, 2919, 1010, 2021, 2009, 3475, 1005, 1056, 2919, 1999, 1037, 10021, 1010, 14742, 2030, 5875, 2126, 1012, 2145, 2488, 2084, 1000, 11686, 3011, 1000, 2030, 1000, 2300, 11108, 1000, 1010, 2295, 1012]\n",
      "Adding Special Tokens                  : [101, 1045, 14145, 2080, 2823, 1012, 1012, 1012, 2017, 3046, 1998, 3046, 1998, 3046, 2000, 2022, 11128, 2875, 2035, 1996, 1038, 27046, 1062, 3694, 5691, 2041, 2045, 1010, 2021, 2320, 1999, 1037, 2096, 1037, 3327, 3185, 2074, 5852, 2115, 11752, 2127, 2017, 2215, 2000, 14308, 3071, 2920, 1012, 1000, 7151, 2111, 1000, 1006, 2029, 1045, 2387, 2104, 1996, 2516, 1000, 2009, 3268, 2011, 2305, 1000, 1007, 2003, 2074, 2107, 1037, 3185, 1012, 2017, 2064, 1005, 1056, 3422, 2023, 2302, 3241, 2008, 2009, 2428, 2323, 2031, 2042, 2019, 2792, 2006, 1000, 2305, 3916, 1000, 1010, 1998, 2025, 2028, 1997, 1996, 2488, 3924, 1010, 2593, 1012, 1026, 7987, 1013, 1028, 1026, 7987, 1013, 1028, 1996, 3185, 2038, 2242, 2000, 2079, 2007, 1037, 3460, 2040, 4152, 19026, 2011, 1037, 7151, 1998, 8821, 4627, 2000, 22822, 8458, 2046, 1037, 2020, 1011, 7151, 2040, 8974, 2529, 2668, 1012, 1006, 2941, 1010, 2017, 1005, 1040, 2228, 2065, 2002, 2001, 3810, 2046, 1037, 2613, 7151, 1010, 2002, 1005, 1040, 2022, 5983, 22529, 2229, 2011, 1996, 25234, 13610, 1010, 2021, 2138, 2023, 2003, 1037, 10036, 1010, 11320, 14615, 5469, 3185, 1010, 2668, 1005, 1055, 1996, 2773, 1012, 1007, 1999, 8741, 1997, 1996, 2755, 2008, 2002, 2038, 2882, 1011, 15451, 25750, 2012, 1996, 4530, 1997, 1037, 6045, 1010, 1998, 2304, 1011, 2041, 4178, 2471, 2296, 2305, 1010, 2010, 2767, 1998, 3507, 7522, 1010, 2852, 1012, 28786, 18567, 1011, 6034, 1010, 16818, 2008, 2002, 1005, 1055, 2074, 2383, 2019, 1005, 27395, 4668, 1005, 2000, 1996, 10958, 20536, 7171, 1012, 5564, 1010, 1996, 2088, 1005, 1055, 2087, 27885, 3630, 25171, 1998, 12991, 13874, 2094, 2221, 6458, 13172, 1996, 9986, 1997, 2108, 3625, 2005, 1996, 12077, 4028, 1998, 4654, 8791, 25698, 9323, 1997, 2195, 2334, 3057, 1006, 1998, 2028, 2663, 2080, 1007, 1012, 2036, 5564, 1010, 1996, 3460, 1005, 1055, 2564, 7288, 2008, 14920, 2003, 1037, 2314, 1999, 5279, 1998, 23554, 9161, 10057, 2032, 1998, 6583, 5620, 2032, 2000, 14836, 1012, 1026, 7987, 1013, 1028, 1026, 7987, 1013, 1028, 2009, 1005, 1055, 2025, 2061, 2172, 2008, 1996, 3772, 2003, 2919, 1011, 2017, 2064, 2425, 2008, 1996, 5889, 2024, 2437, 2658, 2504, 9804, 1010, 1998, 2024, 2667, 2000, 3288, 2070, 10869, 1998, 2166, 2000, 1996, 5896, 1010, 2130, 1996, 3124, 2040, 3248, 1996, 6458, 1012, 1006, 3100, 1010, 2009, 2003, 3492, 2919, 1010, 2021, 2009, 1005, 1055, 2919, 1999, 1037, 18856, 17322, 2094, 1010, 4799, 1010, 2658, 2126, 1007, 1012, 2009, 1005, 1055, 2074, 2008, 2673, 2055, 1996, 3772, 1010, 1996, 2126, 1996, 5019, 2024, 13823, 1010, 1996, 12703, 1010, 1996, 13764, 8649, 1010, 1996, 5896, 1998, 1996, 2466, 2240, 1999, 2236, 4520, 2115, 4091, 2006, 3341, 1998, 3084, 2017, 2215, 2000, 1010, 2092, 1010, 14308, 3071, 2920, 1012, 1026, 7987, 1013, 1028, 1026, 7987, 1013, 1028, 1045, 2228, 1996, 3185, 2018, 2019, 2648, 3382, 2012, 2108, 1037, 11867, 14659, 2100, 1010, 4895, 21678, 2989, 2210, 8754, 5440, 1010, 2021, 1024, 1026, 7987, 1013, 1028, 1026, 7987, 1013, 1028, 1015, 1007, 1996, 2472, 2734, 2000, 3786, 2745, 6986, 8978, 1010, 2019, 5281, 2839, 3364, 1010, 2007, 1037, 3242, 2127, 6986, 8978, 3530, 2000, 2552, 1010, 1998, 2025, 2074, 3149, 6877, 14077, 1012, 1026, 7987, 1013, 1028, 1026, 7987, 1013, 1028, 1016, 1007, 2002, 2036, 2734, 2000, 2424, 1037, 5896, 2008, 2081, 1037, 2210, 2062, 3168, 2007, 7634, 2000, 1996, 2878, 1000, 7151, 15424, 2529, 1010, 2040, 2059, 4332, 2046, 1037, 7151, 1000, 11967, 1012, 1026, 7987, 1013, 1028, 1026, 7987, 1013, 1028, 1017, 1007, 2002, 2036, 2734, 1996, 3364, 2040, 2209, 1996, 3460, 2000, 2424, 1037, 2210, 2062, 8186, 19337, 2666, 12423, 2978, 1997, 2754, 2449, 2005, 2010, 1005, 4178, 1005, 1010, 2612, 1997, 7001, 2075, 2000, 1000, 2158, 2038, 1037, 18634, 1000, 3931, 2013, 1996, 2210, 3585, 2338, 1997, 18856, 17322, 2094, 3772, 5450, 22556, 1012, 1026, 7987, 1013, 1028, 1026, 7987, 1013, 1028, 1018, 1007, 2002, 2734, 2000, 2128, 6198, 1996, 2878, 1005, 2564, 1005, 2839, 1010, 2191, 2014, 2119, 2062, 9414, 1010, 2625, 28349, 1998, 11333, 11057, 11057, 2100, 2062, 27885, 8043, 18941, 1012, 1026, 7987, 1013, 1028, 1026, 7987, 1013, 1028, 1045, 2052, 2196, 17912, 3422, 2023, 2143, 2153, 1010, 3272, 2007, 1996, 2393, 1997, 3505, 1998, 1996, 28516, 2015, 1012, 2009, 1005, 1055, 2919, 1010, 2021, 2009, 3475, 1005, 1056, 2919, 1999, 1037, 10021, 1010, 14742, 2030, 5875, 2126, 1012, 2145, 2488, 2084, 1000, 11686, 3011, 1000, 2030, 1000, 2300, 11108, 1000, 1010, 2295, 1012, 102]\n",
      "Adding Special Tokens Using Encode Func: [101, 1045, 14145, 2080, 2823, 1012, 1012, 1012, 2017, 3046, 1998, 3046, 1998, 3046, 2000, 2022, 11128, 2875, 2035, 1996, 1038, 27046, 1062, 3694, 5691, 2041, 2045, 1010, 2021, 2320, 1999, 1037, 2096, 1037, 3327, 3185, 2074, 5852, 2115, 11752, 2127, 2017, 2215, 2000, 14308, 3071, 2920, 1012, 1000, 7151, 2111, 1000, 1006, 2029, 1045, 2387, 2104, 1996, 2516, 1000, 2009, 3268, 2011, 2305, 1000, 1007, 2003, 2074, 2107, 1037, 3185, 1012, 2017, 2064, 1005, 1056, 3422, 2023, 2302, 3241, 2008, 2009, 2428, 2323, 2031, 2042, 2019, 2792, 2006, 1000, 2305, 3916, 1000, 1010, 1998, 2025, 2028, 1997, 1996, 2488, 3924, 1010, 2593, 1012, 1026, 7987, 1013, 1028, 1026, 7987, 1013, 1028, 1996, 3185, 2038, 2242, 2000, 2079, 2007, 1037, 3460, 2040, 4152, 19026, 2011, 1037, 7151, 1998, 8821, 4627, 2000, 22822, 8458, 2046, 1037, 2020, 1011, 7151, 2040, 8974, 2529, 2668, 1012, 1006, 2941, 1010, 2017, 1005, 1040, 2228, 2065, 2002, 2001, 3810, 2046, 1037, 2613, 7151, 1010, 2002, 1005, 1040, 2022, 5983, 22529, 2229, 2011, 1996, 25234, 13610, 1010, 2021, 2138, 2023, 2003, 1037, 10036, 1010, 11320, 14615, 5469, 3185, 1010, 2668, 1005, 1055, 1996, 2773, 1012, 1007, 1999, 8741, 1997, 1996, 2755, 2008, 2002, 2038, 2882, 1011, 15451, 25750, 2012, 1996, 4530, 1997, 1037, 6045, 1010, 1998, 2304, 1011, 2041, 4178, 2471, 2296, 2305, 1010, 2010, 2767, 1998, 3507, 7522, 1010, 2852, 1012, 28786, 18567, 1011, 6034, 1010, 16818, 2008, 2002, 1005, 1055, 2074, 2383, 2019, 1005, 27395, 4668, 1005, 2000, 1996, 10958, 20536, 7171, 1012, 5564, 1010, 1996, 2088, 1005, 1055, 2087, 27885, 3630, 25171, 1998, 12991, 13874, 2094, 2221, 6458, 13172, 1996, 9986, 1997, 2108, 3625, 2005, 1996, 12077, 4028, 1998, 4654, 8791, 25698, 9323, 1997, 2195, 2334, 3057, 1006, 1998, 2028, 2663, 2080, 1007, 1012, 2036, 5564, 1010, 1996, 3460, 1005, 1055, 2564, 7288, 2008, 14920, 2003, 1037, 2314, 1999, 5279, 1998, 23554, 9161, 10057, 2032, 1998, 6583, 5620, 2032, 2000, 14836, 1012, 1026, 7987, 1013, 1028, 1026, 7987, 1013, 1028, 2009, 1005, 1055, 2025, 2061, 2172, 2008, 1996, 3772, 2003, 2919, 1011, 2017, 2064, 2425, 2008, 1996, 5889, 2024, 2437, 2658, 2504, 9804, 1010, 1998, 2024, 2667, 2000, 3288, 2070, 10869, 1998, 2166, 2000, 1996, 5896, 1010, 2130, 1996, 3124, 2040, 3248, 1996, 6458, 1012, 1006, 3100, 1010, 2009, 2003, 3492, 2919, 1010, 2021, 2009, 1005, 1055, 2919, 1999, 1037, 18856, 17322, 2094, 1010, 4799, 1010, 2658, 2126, 1007, 1012, 2009, 1005, 1055, 2074, 2008, 2673, 2055, 1996, 3772, 1010, 1996, 2126, 1996, 5019, 2024, 13823, 1010, 1996, 12703, 1010, 1996, 13764, 8649, 1010, 1996, 5896, 1998, 1996, 2466, 2240, 1999, 2236, 4520, 2115, 4091, 2006, 3341, 1998, 3084, 2017, 2215, 2000, 1010, 2092, 1010, 14308, 3071, 2920, 1012, 1026, 7987, 1013, 1028, 1026, 7987, 1013, 1028, 1045, 2228, 1996, 3185, 2018, 2019, 2648, 3382, 2012, 2108, 1037, 11867, 14659, 2100, 1010, 4895, 21678, 2989, 2210, 8754, 5440, 1010, 2021, 1024, 1026, 7987, 1013, 1028, 1026, 7987, 1013, 1028, 1015, 1007, 1996, 2472, 2734, 2000, 3786, 2745, 6986, 8978, 1010, 2019, 5281, 2839, 3364, 1010, 2007, 1037, 3242, 2127, 6986, 8978, 3530, 2000, 2552, 1010, 1998, 2025, 2074, 3149, 6877, 14077, 1012, 1026, 7987, 1013, 1028, 1026, 7987, 1013, 1028, 1016, 1007, 2002, 2036, 2734, 2000, 2424, 1037, 5896, 2008, 2081, 1037, 2210, 2062, 3168, 2007, 7634, 2000, 1996, 2878, 1000, 7151, 15424, 2529, 1010, 2040, 2059, 4332, 2046, 1037, 7151, 1000, 11967, 1012, 1026, 7987, 1013, 1028, 1026, 7987, 1013, 1028, 1017, 1007, 2002, 2036, 2734, 1996, 3364, 2040, 2209, 1996, 3460, 2000, 2424, 1037, 2210, 2062, 8186, 19337, 2666, 12423, 2978, 1997, 2754, 2449, 2005, 2010, 1005, 4178, 1005, 1010, 2612, 1997, 7001, 2075, 2000, 1000, 2158, 2038, 1037, 18634, 1000, 3931, 2013, 1996, 2210, 3585, 2338, 1997, 18856, 17322, 2094, 3772, 5450, 22556, 1012, 1026, 7987, 1013, 1028, 1026, 7987, 1013, 1028, 1018, 1007, 2002, 2734, 2000, 2128, 6198, 1996, 2878, 1005, 2564, 1005, 2839, 1010, 2191, 2014, 2119, 2062, 9414, 1010, 2625, 28349, 1998, 11333, 11057, 11057, 2100, 2062, 27885, 8043, 18941, 1012, 1026, 7987, 1013, 1028, 1026, 7987, 1013, 1028, 1045, 2052, 2196, 17912, 3422, 2023, 2143, 2153, 1010, 3272, 2007, 1996, 2393, 1997, 3505, 1998, 1996, 28516, 2015, 1012, 2009, 1005, 1055, 2919, 1010, 2021, 2009, 3475, 1005, 1056, 2919, 1999, 1037, 10021, 1010, 14742, 2030, 5875, 2126, 1012, 2145, 2488, 2084, 1000, 11686, 3011, 1000, 2030, 1000, 2300, 11108, 1000, 1010, 2295, 1012, 102]\n"
     ]
    }
   ],
   "source": [
    "print('Original Text                          : ', text_values[1])\n",
    "print('Tokenized Text                         : ', tokenizer.tokenize(text_values[1]))\n",
    "print('Token IDs                              : ', tokenizer.convert_tokens_to_ids(tokenizer.tokenize(text_values[1])))\n",
    "print('Adding Special Tokens                  :', tokenizer.build_inputs_with_special_tokens(tokenizer.convert_tokens_to_ids(tokenizer.tokenize(text_values[1]))))\n",
    "print('Adding Special Tokens Using Encode Func:', tokenizer.encode(text_values[1]))"
   ]
  },
  {
   "cell_type": "markdown",
   "metadata": {},
   "source": [
    "# Pre-processing c): check the distribution of number of words of the reviews"
   ]
  },
  {
   "cell_type": "code",
   "execution_count": 8,
   "metadata": {},
   "outputs": [
    {
     "data": {
      "image/png": "[encoded data removed]",
      "text/plain": [
       "<Figure size 1296x432 with 2 Axes>"
      ]
     },
     "metadata": {},
     "output_type": "display_data"
    }
   ],
   "source": [
    "# Add column for number of words\n",
    "train['num_of_words'] = train['review'].apply(lambda x:len(str(x).split())) \n",
    "test['num_of_words'] = test['review'].apply(lambda x:len(str(x).split())) \n",
    "\n",
    "# Plot\n",
    "sns.set_style('whitegrid', {'axes.grid' : False})\n",
    "fig, ax = plt.subplots(1, 2)\n",
    "fig.set_size_inches(18, 6)\n",
    "\n",
    "sns.distplot(train['num_of_words'], color='#20A387',ax=ax[0])\n",
    "sns.distplot(test['num_of_words'], color='#440154',ax=ax[1])\n",
    "\n",
    "fig.suptitle(\"Number of Words in Tweets\", fontsize=14)\n",
    "ax[0].set_title('Train')\n",
    "ax[1].set_title('Test')\n",
    "\n",
    "plt.show()"
   ]
  },
  {
   "cell_type": "markdown",
   "metadata": {},
   "source": [
    "# Step 2: encode the reviews and split the training(75%) and testing(25%) dataset"
   ]
  },
  {
   "cell_type": "code",
   "execution_count": 9,
   "metadata": {},
   "outputs": [],
   "source": [
    "# Function to get token ids for a list of texts \n",
    "def encode_fn(text_list):\n",
    "    all_input_ids = []    \n",
    "    for text in text_values:\n",
    "        input_ids = tokenizer.encode(\n",
    "                        text,                      \n",
    "                        add_special_tokens = True, \n",
    "                        max_length = 500,           \n",
    "                        pad_to_max_length = True,\n",
    "                        return_tensors = 'pt'  \n",
    "                   )\n",
    "        all_input_ids.append(input_ids)    \n",
    "    all_input_ids = torch.cat(all_input_ids, dim=0)\n",
    "    return all_input_ids"
   ]
  },
  {
   "cell_type": "code",
   "execution_count": 10,
   "metadata": {},
   "outputs": [],
   "source": [
    "epochs = 4\n",
    "batch_size = 32\n",
    "\n",
    "# Split data into train and validation \n",
    "all_input_ids = encode_fn(text_values)\n",
    "labels = torch.tensor(labels)\n",
    "\n",
    "dataset = TensorDataset(all_input_ids, labels)\n",
    "train_size = int(0.95 * len(dataset))\n",
    "val_size = len(dataset) - train_size\n",
    "train_dataset, val_dataset = random_split(dataset, [train_size, val_size])\n",
    "\n",
    "# Create train and validation dataloaders\n",
    "train_dataloader = DataLoader(train_dataset, batch_size = batch_size, shuffle = True)\n",
    "val_dataloader = DataLoader(val_dataset, batch_size = batch_size, shuffle = False)"
   ]
  },
  {
   "cell_type": "code",
   "execution_count": 11,
   "metadata": {},
   "outputs": [],
   "source": [
    "# Load the pretrained BERT model\n",
    "model = BertForSequenceClassification.from_pretrained(\n",
    "    \"bert-base-uncased\", \n",
    "    num_labels = 2, \n",
    "    output_attentions = False, \n",
    "    output_hidden_states = False, \n",
    ")\n",
    "\n",
    "#model.cuda()\n",
    "\n",
    "# Create optimizer and learning rate scheduler\n",
    "optimizer = AdamW(model.parameters(), lr = 2e-5)\n",
    "total_steps = len(train_dataloader) * epochs\n",
    "scheduler = get_linear_schedule_with_warmup(optimizer, num_warmup_steps = 0,num_training_steps = total_steps)"
   ]
  },
  {
   "cell_type": "markdown",
   "metadata": {},
   "source": [
    "# Step 3: training and validation\n",
    "## Please note that in this project, because my macbook does not support GPU-version pytorch, the calculation is extremely slow. And because the number of words in the review are very big, the sequence size is set at 500, which is very big for BERT model (the max is 512). Thus, we only used 750 sample for training and 250 sample for testing. And this already took me around 8 hours :/"
   ]
  },
  {
   "cell_type": "code",
   "execution_count": 12,
   "metadata": {},
   "outputs": [
    {
     "name": "stdout",
     "output_type": "stream",
     "text": [
      "Train Loss     :  0.6642228002133577\n",
      "Validation Loss:  0.5804982483386993\n",
      "\n",
      "\n",
      "Train Loss     :  0.4493631681670313\n",
      "Validation Loss:  0.40739162266254425\n",
      "\n",
      "\n",
      "Train Loss     :  0.26374152237954346\n",
      "Validation Loss:  0.3899597078561783\n",
      "\n",
      "\n",
      "Train Loss     :  0.19965258888576343\n",
      "Validation Loss:  0.3580104857683182\n",
      "\n",
      "\n"
     ]
    }
   ],
   "source": [
    "##### Training #####\n",
    "for epoch in range(epochs):    \n",
    "    \n",
    "    model.train()   \n",
    "    total_loss, total_val_loss = 0, 0   \n",
    "    for step, batch in enumerate(train_dataloader):\n",
    "        \n",
    "        model.zero_grad()\n",
    "        \n",
    "        #loss, logits = model(batch[0].to(device), \n",
    "        #                     token_type_ids = None, \n",
    "        #                     attention_mask = (batch[0] > 0).to(device), \n",
    "        #                     labels = batch[1].to(device))\n",
    "        loss, logits = model(batch[0], \n",
    "                             token_type_ids = None, \n",
    "                             attention_mask = batch[0] > 0, \n",
    "                             labels = batch[1])\n",
    "        \n",
    "        total_loss += loss.item()\n",
    "        loss.backward()\n",
    "        torch.nn.utils.clip_grad_norm_(model.parameters(), 1.0)\n",
    "        optimizer.step()\n",
    "        scheduler.step()\n",
    "\n",
    "##### Validation #####\n",
    "    model.eval()\n",
    "    for i, batch in enumerate(val_dataloader):\n",
    "        with torch.no_grad():  \n",
    "            #loss, logits = model(batch[0].to(device), \n",
    "            #                       token_type_ids = None, \n",
    "            #                       attention_mask = (batch[0] > 0).to(device),\n",
    "            #                       labels = batch[1].to(device))\n",
    "            loss, logits = model(batch[0], \n",
    "                                   token_type_ids = None, \n",
    "                                   attention_mask = batch[0] > 0, \n",
    "                                   labels = batch[1])\n",
    "        total_val_loss += loss.item()\n",
    "                    \n",
    "    avg_train_loss = total_loss / len(train_dataloader)      \n",
    "    avg_val_loss = total_val_loss / len(val_dataloader)     \n",
    "    print('Train Loss     : ', avg_train_loss)\n",
    "    print('Validation Loss: ', avg_val_loss)\n",
    "    print('\\n')"
   ]
  },
  {
   "cell_type": "code",
   "execution_count": 13,
   "metadata": {},
   "outputs": [],
   "source": [
    "# Create the test data loader\n",
    "text_values = test.review.values\n",
    "all_input_ids = encode_fn(text_values)\n",
    "pred_data = TensorDataset(all_input_ids)\n",
    "pred_dataloader = DataLoader(pred_data, batch_size = batch_size, shuffle = False)"
   ]
  },
  {
   "cell_type": "code",
   "execution_count": 14,
   "metadata": {},
   "outputs": [
    {
     "name": "stdout",
     "output_type": "stream",
     "text": [
      "0\n"
     ]
    }
   ],
   "source": [
    "##### Predictions #####\n",
    "model.eval()\n",
    "preds = []\n",
    "for i, (batch,) in enumerate(pred_dataloader):\n",
    "    if i % 10 == 0:\n",
    "        print(i)\n",
    "    with torch.no_grad():\n",
    "        #outputs = model(batch.to(device), \n",
    "        #                token_type_ids = None, \n",
    "        #                attention_mask = (batch > 0).to(device))\n",
    "        outputs = model(batch, \n",
    "                        token_type_ids = None, \n",
    "                        attention_mask = (batch > 0))\n",
    "\n",
    "    logits = outputs[0]\n",
    "    logits = logits.detach().cpu().numpy()\n",
    "    preds.append(logits)\n",
    "    \n",
    "final_preds = np.concatenate(preds, axis=0)\n",
    "final_preds = np.argmax(final_preds, axis=1)"
   ]
  },
  {
   "cell_type": "code",
   "execution_count": 15,
   "metadata": {},
   "outputs": [
    {
     "data": {
      "text/plain": [
       "array([1, 1, 0, 0, 0, 0, 1, 0, 0, 1, 1, 1, 0, 1, 0, 0, 1, 0, 0, 1, 1, 0,\n",
       "       1, 0, 0, 1, 0, 1, 0, 1, 0, 0, 1, 1, 1, 1, 1, 1, 0, 1, 1, 0, 1, 0,\n",
       "       1, 1, 0, 1, 1, 1, 1, 0, 0, 0, 0, 1, 0, 1, 1, 1, 0, 1, 0, 1, 0, 0,\n",
       "       1, 1, 0, 0, 0, 1, 1, 1, 1, 1, 0, 0, 0, 0, 0, 0, 1, 1, 1, 0, 0, 1,\n",
       "       0, 0, 1, 1, 1, 1, 1, 1, 0, 0, 0, 1, 0, 0, 0, 1, 0, 0, 0, 0, 0, 0,\n",
       "       0, 1, 1, 1, 0, 0, 1, 1, 1, 1, 1, 1, 1, 1, 0, 0, 1, 0, 1, 1, 1, 1,\n",
       "       1, 1, 0, 0, 1, 1, 1, 1, 1, 0, 0, 0, 0, 1, 0, 0, 1, 1, 1, 0, 0, 1,\n",
       "       1, 0, 1, 1, 0, 1, 1, 0, 1, 1, 0, 0, 1, 1, 1, 1, 0, 1, 0, 0, 0, 1,\n",
       "       1, 1, 1, 1, 1, 0, 0, 1, 0, 0, 0, 0, 0, 1, 1, 0, 1, 0, 1, 0, 1, 1,\n",
       "       0, 0, 1, 0, 0, 1, 1, 0, 0, 1, 0, 0, 1, 0, 1, 0, 1, 1, 1, 0, 1, 0,\n",
       "       1, 1, 0, 0, 1, 1, 1, 1, 0, 0, 0, 1, 1, 0, 1, 1, 1, 1, 1, 1, 0, 0,\n",
       "       0, 0, 1, 1, 0, 0, 0, 1])"
      ]
     },
     "execution_count": 15,
     "metadata": {},
     "output_type": "execute_result"
    }
   ],
   "source": [
    "# predicted labels\n",
    "final_preds"
   ]
  },
  {
   "cell_type": "code",
   "execution_count": 16,
   "metadata": {},
   "outputs": [
    {
     "data": {
      "text/plain": [
       "array([1, 1, 0, 0, 1, 0, 1, 0, 0, 1, 1, 1, 0, 0, 0, 0, 1, 0, 0, 0, 1, 0,\n",
       "       1, 0, 0, 1, 0, 1, 0, 1, 0, 0, 1, 1, 1, 1, 0, 1, 0, 1, 1, 0, 0, 0,\n",
       "       1, 1, 0, 1, 1, 1, 1, 0, 0, 0, 0, 1, 0, 0, 1, 1, 0, 0, 0, 1, 0, 0,\n",
       "       1, 1, 0, 0, 0, 1, 1, 1, 1, 1, 0, 0, 0, 0, 0, 0, 1, 0, 1, 0, 0, 1,\n",
       "       0, 0, 1, 1, 1, 1, 1, 1, 1, 0, 0, 1, 0, 0, 0, 0, 0, 0, 0, 0, 0, 1,\n",
       "       1, 1, 1, 1, 0, 0, 0, 0, 1, 1, 1, 1, 1, 1, 0, 0, 0, 0, 1, 1, 0, 1,\n",
       "       1, 1, 0, 0, 1, 1, 1, 1, 1, 0, 0, 0, 0, 0, 0, 0, 1, 1, 1, 0, 0, 1,\n",
       "       1, 0, 0, 1, 0, 1, 1, 0, 0, 1, 0, 0, 1, 1, 0, 1, 0, 1, 0, 0, 0, 1,\n",
       "       1, 1, 1, 1, 1, 1, 0, 1, 0, 0, 0, 0, 0, 1, 1, 0, 1, 0, 1, 0, 1, 1,\n",
       "       0, 0, 1, 0, 0, 1, 0, 0, 0, 1, 0, 0, 1, 0, 1, 0, 0, 1, 1, 0, 1, 0,\n",
       "       1, 1, 0, 0, 1, 1, 0, 1, 0, 0, 0, 1, 1, 0, 1, 1, 1, 1, 1, 1, 0, 0,\n",
       "       0, 1, 1, 1, 0, 0, 0, 1])"
      ]
     },
     "execution_count": 16,
     "metadata": {},
     "output_type": "execute_result"
    }
   ],
   "source": [
    "# actual labels\n",
    "test.sentiment.replace({'positive': 1, 'negative': 0}).values"
   ]
  },
  {
   "cell_type": "markdown",
   "metadata": {},
   "source": [
    "## Using only 750 samples for training, 250 for testing, with a batch size of 32 and trained 4 epoches, the testing accuracy is 90%! It is so far the best accuracy we achieved, better than any model in the previous method."
   ]
  },
  {
   "cell_type": "code",
   "execution_count": 18,
   "metadata": {},
   "outputs": [
    {
     "data": {
      "text/plain": [
       "0.9"
      ]
     },
     "execution_count": 18,
     "metadata": {},
     "output_type": "execute_result"
    }
   ],
   "source": [
    "# Test accuracy\n",
    "sum(final_preds == test.sentiment.replace({'positive': 1, 'negative': 0}).values)/len(final_preds)"
   ]
  },
  {
   "cell_type": "code",
   "execution_count": null,
   "metadata": {},
   "outputs": [],
   "source": []
  }
 ],
 "metadata": {
  "kernelspec": {
   "display_name": "Python 3",
   "language": "python",
   "name": "python3"
  },
  "language_info": {
   "codemirror_mode": {
    "name": "ipython",
    "version": 3
   },
   "file_extension": ".py",
   "mimetype": "text/x-python",
   "name": "python",
   "nbconvert_exporter": "python",
   "pygments_lexer": "ipython3",
   "version": "3.7.7"
  }
 },
 "nbformat": 4,
 "nbformat_minor": 1
}
